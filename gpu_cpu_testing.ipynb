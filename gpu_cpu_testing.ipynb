{
 "cells": [
  {
   "cell_type": "markdown",
   "id": "286fb6fe-224c-4b31-9e9a-d73c7293dc3f",
   "metadata": {},
   "source": [
    "## Checking devices (should be GPU and CPU)"
   ]
  },
  {
   "cell_type": "code",
   "execution_count": 46,
   "id": "1628d2fd-10ff-4f19-8abd-8f2eb60dde27",
   "metadata": {},
   "outputs": [
    {
     "name": "stdout",
     "output_type": "stream",
     "text": [
      "[PhysicalDevice(name='/physical_device:CPU:0', device_type='CPU'), PhysicalDevice(name='/physical_device:GPU:0', device_type='GPU')]\n"
     ]
    }
   ],
   "source": [
    "print(tf.config.list_physical_devices())\n",
    "tf.debugging.set_log_device_placement(True)"
   ]
  },
  {
   "cell_type": "markdown",
   "id": "44188f8c-2cf4-42fb-b2f5-2d555e5fcd7f",
   "metadata": {},
   "source": [
    "## Fetching Data From An Array"
   ]
  },
  {
   "cell_type": "code",
   "execution_count": 50,
   "id": "76310074-7970-4c4e-a3e6-20e4526df07b",
   "metadata": {},
   "outputs": [
    {
     "name": "stdout",
     "output_type": "stream",
     "text": [
      "CPU time: 0.5524556636810303\n",
      "GPU time: 0.8029923439025879\n"
     ]
    }
   ],
   "source": [
    "import tensorflow as tf\n",
    "import time\n",
    "\n",
    "# Create a large tensor\n",
    "tensor = tf.random.normal([1000000])\n",
    "\n",
    "# Fetch small chunks in a loop\n",
    "def fetch_data(x):\n",
    "    result = []\n",
    "    for _ in range(1000):\n",
    "        index = tf.random.uniform([], 0, tf.size(x), dtype=tf.int32)\n",
    "        result.append(x[index])\n",
    "    return result\n",
    "\n",
    "# Time operation on CPU\n",
    "start_time = time.time()\n",
    "with tf.device('/CPU:0'):\n",
    "    result_cpu = fetch_data(tensor)\n",
    "print(\"CPU time:\", time.time() - start_time)\n",
    "\n",
    "# Time operation on GPU\n",
    "start_time = time.time()\n",
    "with tf.device('/GPU:0'):\n",
    "    result_gpu = fetch_data(tensor)\n",
    "print(\"GPU time:\", time.time() - start_time)"
   ]
  },
  {
   "cell_type": "markdown",
   "id": "a0accde3-9752-4e01-963b-05cdc1ecad1b",
   "metadata": {},
   "source": [
    "## If statement on array elements"
   ]
  },
  {
   "cell_type": "code",
   "execution_count": 32,
   "id": "cc1cb4fa-3f5a-4a58-802d-0d0d3d3c4987",
   "metadata": {},
   "outputs": [
    {
     "name": "stdout",
     "output_type": "stream",
     "text": [
      "CPU time: 5.589536428451538\n",
      "GPU time: 8.359117031097412\n"
     ]
    }
   ],
   "source": [
    "import tensorflow as tf\n",
    "import time\n",
    "\n",
    "# Data\n",
    "data = tf.random.normal([10000])\n",
    "\n",
    "# Function with conditionals\n",
    "def complex_function(x):\n",
    "    for i in tf.range(tf.size(x)):\n",
    "        if x[i] < 5:\n",
    "            3 * 4\n",
    "        else:\n",
    "            1 * 2\n",
    "    return x\n",
    "\n",
    "# Time operation on CPU\n",
    "start_time = time.time()\n",
    "with tf.device('/CPU:0'):\n",
    "    result_cpu = complex_function(data)\n",
    "print(\"CPU time:\", time.time() - start_time)\n",
    "\n",
    "# Time operation on GPU\n",
    "start_time = time.time()\n",
    "with tf.device('/GPU:0'):\n",
    "    result_gpu = complex_function(data)\n",
    "print(\"GPU time:\", time.time() - start_time)"
   ]
  },
  {
   "cell_type": "markdown",
   "id": "b474ae35-37fe-4776-b9d9-e59bbed40548",
   "metadata": {},
   "source": [
    "## Squaring an 10M element array"
   ]
  },
  {
   "cell_type": "code",
   "execution_count": 33,
   "id": "bbf4f624-0f39-4fc1-b580-81cdc184399b",
   "metadata": {},
   "outputs": [
    {
     "name": "stdout",
     "output_type": "stream",
     "text": [
      "GPU time: 0.003785371780395508\n",
      "CPU time: 0.039515018463134766\n"
     ]
    }
   ],
   "source": [
    "arr1 = tf.range(10000000, dtype=tf.float32)\n",
    "arr2 = tf.range(10000000, dtype=tf.float32)\n",
    "\n",
    "# GPU\n",
    "start_time = time.time()\n",
    "with tf.device('/GPU:0'):\n",
    "    squared_arr = tf.square(arr1)\n",
    "print(\"GPU time:\", time.time() - start_time)\n",
    "\n",
    "# CPU\n",
    "start_time = time.time()\n",
    "with tf.device('/CPU:0'):\n",
    "    squared_arr = tf.square(arr2)\n",
    "print(\"CPU time:\", time.time() - start_time)"
   ]
  },
  {
   "cell_type": "markdown",
   "id": "42efb54c-3557-4032-b1a1-2a5ed7b55588",
   "metadata": {},
   "source": [
    "## Training A Neural Network"
   ]
  },
  {
   "cell_type": "code",
   "execution_count": 36,
   "id": "9039c0a2-3903-4b7d-9d4d-e0604f3c23e2",
   "metadata": {},
   "outputs": [
    {
     "name": "stdout",
     "output_type": "stream",
     "text": [
      "Epoch 1/10\n",
      "3125/3125 [==============================] - 8s 3ms/step - loss: 0.6946 - accuracy: 0.4991\n",
      "Epoch 2/10\n",
      "3125/3125 [==============================] - 8s 3ms/step - loss: 0.6932 - accuracy: 0.5007\n",
      "Epoch 3/10\n",
      "3125/3125 [==============================] - 8s 3ms/step - loss: 0.6932 - accuracy: 0.5002\n",
      "Epoch 4/10\n",
      "3125/3125 [==============================] - 8s 3ms/step - loss: 0.6932 - accuracy: 0.4992\n",
      "Epoch 5/10\n",
      "3125/3125 [==============================] - 8s 3ms/step - loss: 0.6932 - accuracy: 0.4986\n",
      "Epoch 6/10\n",
      "3125/3125 [==============================] - 9s 3ms/step - loss: 0.6931 - accuracy: 0.5034\n",
      "Epoch 7/10\n",
      "3125/3125 [==============================] - 8s 3ms/step - loss: 0.6932 - accuracy: 0.4992\n",
      "Epoch 8/10\n",
      "3125/3125 [==============================] - 8s 3ms/step - loss: 0.6932 - accuracy: 0.5004\n",
      "Epoch 9/10\n",
      "3125/3125 [==============================] - 8s 3ms/step - loss: 0.6932 - accuracy: 0.4994\n",
      "Epoch 10/10\n",
      "3125/3125 [==============================] - 8s 3ms/step - loss: 0.6932 - accuracy: 0.4986\n",
      "GPU time: 82.84822249412537\n",
      "Epoch 1/10\n",
      "3125/3125 [==============================] - 11s 3ms/step - loss: 0.6932 - accuracy: 0.4992\n",
      "Epoch 2/10\n",
      "3125/3125 [==============================] - 11s 3ms/step - loss: 0.6932 - accuracy: 0.4961\n",
      "Epoch 3/10\n",
      "3125/3125 [==============================] - 11s 3ms/step - loss: 0.6932 - accuracy: 0.4971\n",
      "Epoch 4/10\n",
      "3125/3125 [==============================] - 10s 3ms/step - loss: 0.6932 - accuracy: 0.4987\n",
      "Epoch 5/10\n",
      "3125/3125 [==============================] - 11s 3ms/step - loss: 0.6932 - accuracy: 0.5000\n",
      "Epoch 6/10\n",
      "3125/3125 [==============================] - 10s 3ms/step - loss: 0.6932 - accuracy: 0.4998\n",
      "Epoch 7/10\n",
      "3125/3125 [==============================] - 10s 3ms/step - loss: 0.6932 - accuracy: 0.4984\n",
      "Epoch 8/10\n",
      "3125/3125 [==============================] - 10s 3ms/step - loss: 0.6932 - accuracy: 0.5001\n",
      "Epoch 9/10\n",
      "3125/3125 [==============================] - 10s 3ms/step - loss: 0.6932 - accuracy: 0.4986\n",
      "Epoch 10/10\n",
      "3125/3125 [==============================] - 10s 3ms/step - loss: 0.6932 - accuracy: 0.4985\n",
      "CPU time: 105.08663082122803\n"
     ]
    }
   ],
   "source": [
    "import tensorflow as tf\n",
    "import numpy as np\n",
    "\n",
    "# Generate random data\n",
    "X = np.random.rand(100000, 1000).astype(np.float32)  # 10,000 samples, 100 features\n",
    "y = np.random.randint(2, size=100000).astype(np.float32)  # Random binary labels\n",
    "\n",
    "# Define a simple neural network model\n",
    "model = tf.keras.models.Sequential([\n",
    "    tf.keras.layers.Dense(128, activation='relu', input_shape=(1000,)),\n",
    "    tf.keras.layers.Dense(64, activation='relu'),\n",
    "    tf.keras.layers.Dense(1, activation='sigmoid')\n",
    "])\n",
    "\n",
    "model.compile(optimizer='adam', loss='binary_crossentropy', metrics=['accuracy'])\n",
    "\n",
    "# GPU\n",
    "start_time = time.time()\n",
    "with tf.device('/GPU:0'):\n",
    "    model.fit(X, y, epochs=10, batch_size=32)\n",
    "print(\"GPU time:\", time.time() - start_time)\n",
    "\n",
    "# CPU\n",
    "start_time = time.time()\n",
    "with tf.device('/CPU:0'):\n",
    "    model.fit(X, y, epochs=10, batch_size=32)\n",
    "print(\"CPU time:\", time.time() - start_time)"
   ]
  },
  {
   "cell_type": "markdown",
   "id": "e52fc326-2642-48f0-9c35-5501586c2f40",
   "metadata": {},
   "source": [
    "## Small Matrix Inversion"
   ]
  },
  {
   "cell_type": "code",
   "execution_count": 43,
   "id": "52899158-d05e-4bc0-943b-be5fd5ba1059",
   "metadata": {},
   "outputs": [
    {
     "name": "stdout",
     "output_type": "stream",
     "text": [
      "CPU time: 0.0007755756378173828\n",
      "GPU time: 0.0011303424835205078\n"
     ]
    }
   ],
   "source": [
    "import tensorflow as tf\n",
    "import time\n",
    "\n",
    "# A small matrix\n",
    "matrix = tf.random.normal([100, 100])\n",
    "\n",
    "# Time operation on CPU\n",
    "start_time = time.time()\n",
    "with tf.device('/CPU:0'):\n",
    "    result_cpu = tf.linalg.inv(matrix)\n",
    "print(\"CPU time:\", time.time() - start_time)\n",
    "\n",
    "# Time operation on GPU\n",
    "start_time = time.time()\n",
    "with tf.device('/GPU:0'):\n",
    "    result_gpu = tf.linalg.inv(matrix)\n",
    "print(\"GPU time:\", time.time() - start_time)"
   ]
  },
  {
   "cell_type": "markdown",
   "id": "b041d436-e628-41f0-92ba-77eee987a1d7",
   "metadata": {},
   "source": [
    "## Large Matrix Inversion"
   ]
  },
  {
   "cell_type": "code",
   "execution_count": 45,
   "id": "e954f265-38d3-4729-8175-4a2743353ac5",
   "metadata": {},
   "outputs": [
    {
     "name": "stdout",
     "output_type": "stream",
     "text": [
      "CPU time: 78.6248688697815\n",
      "GPU time: 1.186516284942627\n"
     ]
    }
   ],
   "source": [
    "import tensorflow as tf\n",
    "import time\n",
    "\n",
    "# A small matrix\n",
    "matrix = tf.random.normal([10000, 10000])\n",
    "\n",
    "# Time operation on CPU\n",
    "start_time = time.time()\n",
    "with tf.device('/CPU:0'):\n",
    "    result_cpu = tf.linalg.inv(matrix)\n",
    "print(\"CPU time:\", time.time() - start_time)\n",
    "\n",
    "# Time operation on GPU\n",
    "start_time = time.time()\n",
    "with tf.device('/GPU:0'):\n",
    "    result_gpu = tf.linalg.inv(matrix)\n",
    "print(\"GPU time:\", time.time() - start_time)"
   ]
  }
 ],
 "metadata": {
  "kernelspec": {
   "display_name": "Python 3 (ipykernel)",
   "language": "python",
   "name": "python3"
  },
  "language_info": {
   "codemirror_mode": {
    "name": "ipython",
    "version": 3
   },
   "file_extension": ".py",
   "mimetype": "text/x-python",
   "name": "python",
   "nbconvert_exporter": "python",
   "pygments_lexer": "ipython3",
   "version": "3.9.16"
  }
 },
 "nbformat": 4,
 "nbformat_minor": 5
}
